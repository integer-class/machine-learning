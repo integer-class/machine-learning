{
  "cells": [
    {
      "cell_type": "markdown",
      "metadata": {
        "id": "W__htb4fYaPk"
      },
      "source": [
        "# Intro\n",
        "\n",
        "Pada kuis ini, Anda diminta untuk melakukan klasifikasi citra wajah dengan menggunakan dataset Labeled Face in Wild (LFW).\n",
        "Spesifikasi pengerjaan kuis yang harus dipehuni adalah,\n",
        "\n",
        "1. Setiap label dari dataset LFW harus berisikan minimal 10 gambar (5 poin)\n",
        "2. Citra yang digunakan merupakan citra RGB / color (5 poin)\n",
        "3. (Opsional) Lakukan proses pra pengolahan data jika diperlukan (ekstra 10 poin)\n",
        "4. (Wajib) Gunakan fitur histogram untuk setiap channel citra (35 poin)\n",
        "5. (Wajib) Gunakan algoritma SVM sebagai model dasar (35 poin)\n",
        "6. (Wajib) Gunakan metric akurasi, dan *classification report* untuk melihat performa model (20 poin)\n",
        "\n",
        "## Challenge\n",
        "Setelah menyelesaikan kuis berdasarkan spesifikasi wajib, Anda diperkenankan untuk\n",
        "\n",
        "- Menggunakan fitur lain selain histogram (ekstra 20 poin)\n",
        "- Menggunakan model lain selain SVM (ekstra 10 poin)\n",
        "- Evalusi dengan metric lain ataupun report dengan *confusion matrix* (ekstra 10 poin)"
      ]
    },
    {
      "cell_type": "markdown",
      "metadata": {
        "id": "VXMj9b2oYaPn"
      },
      "source": [
        "# Boilerplate\n",
        "\n",
        "Berikut merupakan boilerplate code yang dapat Anda gunakan sebagai acuan dasar pengerjaan kuis.\n",
        "Anda diperkenankan untuk **menambah** ataupun **mengurangi** bagian boilerplate yang disediakan."
      ]
    },
    {
      "cell_type": "markdown",
      "metadata": {
        "id": "aKEbIDheYaPn"
      },
      "source": [
        "---"
      ]
    },
    {
      "cell_type": "markdown",
      "source": [
        "**Team Raja Terakhir:**\n",
        "- Ananda Azharuddin Salima\n",
        "- Gastiadirijal N.K\n",
        "- Shafa Rafazanda\n",
        "- Virza Aulia Rachman"
      ],
      "metadata": {
        "id": "BnfZbO4eKMiT"
      }
    },
    {
      "cell_type": "markdown",
      "metadata": {
        "id": "9QFffYWHYaPo"
      },
      "source": [
        "# Preparation"
      ]
    },
    {
      "cell_type": "code",
      "execution_count": 1,
      "metadata": {
        "id": "H6aS236mYaPo"
      },
      "outputs": [],
      "source": [
        "# Load required library\n",
        "# Import Required Library\n",
        "import cv2\n",
        "import numpy as np\n",
        "import pandas as pd\n",
        "from sklearn.datasets import fetch_lfw_people\n",
        "from sklearn.model_selection import train_test_split\n",
        "from sklearn.svm import SVC\n",
        "from sklearn.metrics import confusion_matrix, accuracy_score, classification_report\n",
        "import matplotlib.pyplot as plt\n",
        "import seaborn as sns"
      ]
    },
    {
      "cell_type": "markdown",
      "source": [
        "\n",
        "*   `import cv2` mengimpor pustaka OpenCV, yang digunakan untuk mengolah gambar dan video.\n",
        "*   `numpy` dan `pandas`: Digunakan untuk manipulasi data dan operasi numerik.\n",
        "*   `fetch_lfw_people`: Digunakan untuk memuat dataset Labeled Faces in the Wild (LFW) dari pustaka `scikit-learn`.\n",
        "*   `train_test_split`: Untuk membagi dataset menjadi set pelatihan dan pengujian.\n",
        "*   `SVC`: Algoritma Support Vector Machine dari `scikit-learn` untuk klasifikasi.\n",
        "*   `confusion_matrix`, `accuracy_score`, `classification_report`: Metrik evaluasi model untuk mengukur performa.\n",
        "*   `matplotlib.pyplot` dan `seaborn`: Pustaka untuk visualisasi data, seperti menampilkan matriks kebingungan atau plot histogram."
      ],
      "metadata": {
        "id": "cX2ThVuyRnGj"
      }
    },
    {
      "cell_type": "markdown",
      "metadata": {
        "id": "zu19nNDYYaPp"
      },
      "source": [
        "# Load Data"
      ]
    },
    {
      "cell_type": "code",
      "execution_count": 17,
      "metadata": {
        "colab": {
          "base_uri": "https://localhost:8080/"
        },
        "id": "xilWFC1QYaPq",
        "outputId": "83c64fc1-1b26-4903-eab8-5833382ba641"
      },
      "outputs": [
        {
          "output_type": "stream",
          "name": "stdout",
          "text": [
            "Total Label: 2\n",
            "Data dimension: (766, 62, 47, 3)\n",
            "Images flatten dimension: (766, 8742)\n"
          ]
        }
      ],
      "source": [
        "# Load Dataset\n",
        "# We will load dataset only for faces with contain min 10 images\n",
        "# We also want to keep images in color; color=True\n",
        "\n",
        "# Load dataset with conditions\n",
        "faces = fetch_lfw_people(min_faces_per_person=200, color=True, resize=0.5)  # Optional resize for memory efficiency\n",
        "\n",
        "# Check Faces\n",
        "print(f'Total Label: {len(faces.target_names)}')\n",
        "print(f'Data dimension: {faces.images.shape}')\n",
        "print(f'Images flatten dimension: {faces.data.shape}')\n",
        "\n",
        "\n"
      ]
    },
    {
      "cell_type": "markdown",
      "source": [
        "\n",
        "\n",
        "1.   Memuat Dataset LFW\n",
        "\n",
        "Gunakan fungsi `fetch_lfw_people` dari pustaka `scikit-learn`. Dataset ini secara otomatis akan mengunduh gambar wajah dan label yang terkait.\n",
        "\n",
        "*   `min_faces_per_person=10`: Memastikan setiap label memiliki minimal 10 gambar (sesuai persyaratan kuis).\n",
        "*   `color=True`: Memuat gambar dalam format RGB.\n",
        "*   `resize`: Opsional, digunakan untuk mengubah ukuran gambar agar lebih ringan dan mudah diproses.\n",
        "\n",
        "2.   Menampilkan informasi dataset\n",
        "\n",
        "*   Total Label\n",
        "*   Data Dimension\n",
        "*   Image Flatten dimension"
      ],
      "metadata": {
        "id": "bLsc5-kmb5uF"
      }
    },
    {
      "cell_type": "code",
      "source": [
        "X = faces.images  # Stores the face image to be processed.\n",
        "y = faces.target  # Stores the labels associated with each image (as Integer).\n",
        "\n",
        "# Show some images to make sure the dataset has been loaded correctly\n",
        "plt.imshow(X[0])\n",
        "plt.title(f\"Label: {faces.target_names[y[0]]}\")\n",
        "plt.show()\n"
      ],
      "metadata": {
        "colab": {
          "base_uri": "https://localhost:8080/",
          "height": 452
        },
        "id": "dkkYigYsg1Q3",
        "outputId": "8049dd09-1e0b-45b2-bdc2-d4abfa46bd44"
      },
      "execution_count": 18,
      "outputs": [
        {
          "output_type": "display_data",
          "data": {
            "text/plain": [
              "<Figure size 640x480 with 1 Axes>"
            ],
            "image/png": "[encoded data removed]"
          },
          "metadata": {}
        }
      ]
    },
    {
      "cell_type": "markdown",
      "source": [
        "\n",
        "3.   Ekstraksi Data dan Label:\n",
        "\n",
        "Pisahkan gambar dan label dari dataset. Gambar-gambar akan digunakan untuk ekstraksi fitur (histogram), sedangkan label akan digunakan untuk melatih model.\n",
        "*   `X`: Menyimpan gambar wajah yang akan diproses.\n",
        "*   `y`: Menyimpan label yang berhubungan dengan setiap gambar (target).\n",
        "\n",
        "\n",
        "\n"
      ],
      "metadata": {
        "id": "jNh61MlQhv6K"
      }
    },
    {
      "cell_type": "code",
      "execution_count": 19,
      "metadata": {
        "colab": {
          "base_uri": "https://localhost:8080/",
          "height": 807
        },
        "id": "eZ8B0CJbYaPq",
        "outputId": "fb546f1c-cd2b-46a3-c0a1-c38a1980e2da"
      },
      "outputs": [
        {
          "output_type": "display_data",
          "data": {
            "text/plain": [
              "<Figure size 1200x800 with 15 Axes>"
            ],
            "image/png": "[encoded data removed]"
          },
          "metadata": {}
        }
      ],
      "source": [
        "# Check by Plotted Images\n",
        "# Generate random 15 images\n",
        "\n",
        "rand_labels = np.random.choice(len(faces.data), 15, replace=False)\n",
        "\n",
        "fig, ax = plt.subplots(3, 5, figsize=(12, 8))\n",
        "for i, axi in enumerate(ax.flat):\n",
        "    axi.imshow(faces.images[rand_labels[i]])  # Default color map for RGB images\n",
        "    axi.set(xticks=[], yticks=[], xlabel=faces.target_names[faces.target[rand_labels[i]]])\n",
        "\n",
        "# Adjust layout after plotting\n",
        "fig.tight_layout()"
      ]
    },
    {
      "cell_type": "markdown",
      "source": [
        "\n",
        "*   `np.random.choice`: Digunakan untuk memilih 15 indeks acak dari dataset tanpa pengulangan (replace=False).\n",
        "*   `imshow()` tanpa `cmap`: Karena gambar adalah RGB, maka dari itu tidak perlu menggunakan peta warna apa pun.\n",
        "*   `tight_layout()` di akhir: Dipanggil setelah semua gambar dan label ditambahkan untuk memastikan tampilan tata letak lebih rapi.\n"
      ],
      "metadata": {
        "id": "gt2RvdkRpwrT"
      }
    },
    {
      "cell_type": "markdown",
      "source": [
        "**Kesimpulan**\n",
        "\n",
        "Langkah Load data ini akan:\n",
        "\n",
        "1.   Memuat dataset LFW dengan minimal 10 gambar per label.\n",
        "2.   Mengambil gambar dalam format RGB.\n",
        "3.   Memisahkan gambar dan label untuk proses lebih lanjut.\n",
        "4.   Memeriksa dan memvisualisasikan data untuk memastikan semuanya berjalan sesuai."
      ],
      "metadata": {
        "id": "xPMvyIG_qnhL"
      }
    },
    {
      "cell_type": "markdown",
      "metadata": {
        "id": "PNw5oMfVYaPq"
      },
      "source": [
        "# Preprocessing"
      ]
    },
    {
      "cell_type": "code",
      "execution_count": null,
      "metadata": {
        "id": "8bqSgBqfYaPr"
      },
      "outputs": [],
      "source": [
        "'''\n",
        "    Pada bagian ini Anda diperbolehkan untuk melakukan proses pra pengolahan data (preprocessing) sesuai dengan kebutuhan. Pra pengolahan data dapat berupa,\n",
        "\n",
        "    1. Standardisasi nilai fitur ataupun label\n",
        "    2. Penyesuaian ukuran gambar\n",
        "    3. Perubahan colorspace gambar\n",
        "    4. dsb\n",
        "'''"
      ]
    },
    {
      "cell_type": "markdown",
      "source": [
        "## Normalisasi Gambar"
      ],
      "metadata": {
        "id": "nRYQkI4isAAk"
      }
    },
    {
      "cell_type": "code",
      "source": [
        "# Normalisasi gambar dari rentang [0, 255] ke [0, 1]\n",
        "X_normalized = X / 255.0"
      ],
      "metadata": {
        "id": "F4E0GNXg0GY3"
      },
      "execution_count": 20,
      "outputs": []
    },
    {
      "cell_type": "markdown",
      "source": [
        "\n",
        "*   **Alasan**: Normalisasi ini bisa membantu model bekerja lebih stabil, terutama ketika menggunakan algoritma seperti SVM yang sensitif terhadap skala data.\n"
      ],
      "metadata": {
        "id": "53NQdGDx25qZ"
      }
    },
    {
      "cell_type": "markdown",
      "metadata": {
        "id": "0kzKo6DwYaPr"
      },
      "source": [
        "# Features Extraction"
      ]
    },
    {
      "cell_type": "code",
      "execution_count": null,
      "metadata": {
        "id": "GvJqm_5rYaPr"
      },
      "outputs": [],
      "source": [
        "'''\n",
        "    Pada bagian ini, lakukan proses ekstraksi fitur yang diminta, yaitu histogram tiap channel.\n",
        "    Terdapat banyak cara untuk melakukan ekstraksi fitur histrogram.\n",
        "\n",
        "    Hints:\n",
        "        Salah satu cara untuk melakukan ekstraksi fitur histrogram adalah,\n",
        "        Anda dapat menggunakan fungsi np.histrogram dari library numpy\n",
        "'''"
      ]
    },
    {
      "cell_type": "code",
      "source": [
        "# Fungsi untuk mengekstrak histogram dari satu gambar\n",
        "def extract_histogram(image, bins=(8, 8, 8)):\n",
        "    # Menghitung histogram untuk setiap channel (R, G, B)\n",
        "    hist_r = cv2.calcHist([image], [0], None, [bins[0]], [0, 256])\n",
        "    hist_g = cv2.calcHist([image], [1], None, [bins[1]], [0, 256])\n",
        "    hist_b = cv2.calcHist([image], [2], None, [bins[2]], [0, 256])\n",
        "\n",
        "    # Normalisasi histogram agar nilai berada di rentang [0, 1]\n",
        "    hist_r = cv2.normalize(hist_r, hist_r).flatten()\n",
        "    hist_g = cv2.normalize(hist_g, hist_g).flatten()\n",
        "    hist_b = cv2.normalize(hist_b, hist_b).flatten()\n",
        "\n",
        "    # Menggabungkan histogram R, G, dan B menjadi satu vektor fitur\n",
        "    hist = np.concatenate([hist_r, hist_g, hist_b])\n",
        "\n",
        "    return hist\n",
        "\n",
        "# Ekstraksi histogram untuk seluruh dataset\n",
        "X_hist = np.array([extract_histogram(image) for image in faces.images])\n",
        "\n",
        "# Memeriksa dimensi hasil ekstraksi fitur histogram\n",
        "print(\"Dimensi fitur histogram: \", X_hist.shape)"
      ],
      "metadata": {
        "colab": {
          "base_uri": "https://localhost:8080/"
        },
        "id": "0UP4ArzEA0Ik",
        "outputId": "64553632-b366-417f-bc60-c17d7c2b40df"
      },
      "execution_count": 21,
      "outputs": [
        {
          "output_type": "stream",
          "name": "stdout",
          "text": [
            "Dimensi fitur histogram:  (766, 24)\n"
          ]
        }
      ]
    },
    {
      "cell_type": "markdown",
      "source": [
        "**Penjelasan Kode:**\n",
        "\n",
        "1.   `extract_histogram()`:\n",
        "\n",
        "\n",
        "*   Menggunakan fungsi OpenCV `cv2.calcHist()` untuk menghitung histogram dari setiap channel gambar (Red, Green, dan Blue).\n",
        "*   Normalisasi dilakukan menggunakan `cv2.normalize()` agar distribusi histogram dapat dibandingkan antar gambar.\n",
        "*   Histogram dari tiga channel (R, G, B) kemudian digabungkan menjadi satu vektor fitur dengan `np.concatenate()`.\n",
        "\n",
        "2.   Ekstraksi Histogram dari Dataset:\n",
        "*   Looping dilakukan untuk seluruh gambar dalam dataset `faces.images` dan histogram diekstrak dari setiap gambar.\n",
        "3.   Hasil Akhir:\n",
        "*   Setelah diekstraksi, vektor histogram untuk setiap gambar disimpan di variabel `X_hist`. Dimensi `X_hist` akan menjadi `(n_samples, total_bins)`, di mana `total_bins` adalah jumlah total bins dari ketiga channel histogram yang digabungkan.\n",
        "\n",
        "\n",
        "**Pengaturan Parameter Bins:**\n",
        "\n",
        "*   `bins` menentukan jumlah \"bucket\" yang digunakan untuk membagi rentang intensitas warna. Misalnya, dengan `(8, 8, 8)` bins, kita membagi setiap channel menjadi 8 bagian, sehingga total ada 8*8*8 = 512 fitur per gambar. Anda bisa menyesuaikan jumlah bins untuk bereksperimen dengan kualitas fitur yang dihasilkan."
      ],
      "metadata": {
        "id": "RZpd4eEjC7vN"
      }
    },
    {
      "cell_type": "markdown",
      "metadata": {
        "id": "vaWUtmTkYaPs"
      },
      "source": [
        "# Build Model"
      ]
    },
    {
      "cell_type": "code",
      "execution_count": null,
      "metadata": {
        "id": "h65XFBb5YaPs"
      },
      "outputs": [],
      "source": [
        "'''\n",
        "    Pada bagian ini lakukan proses pembuatan model,\n",
        "\n",
        "    1. Pembuatan data training dan data testing\n",
        "    2. Pembuatan objek model\n",
        "    3. Proses fitting model\n",
        "'''"
      ]
    },
    {
      "cell_type": "code",
      "source": [
        "# Step 1: Split data into training and testing sets\n",
        "X_train, X_test, y_train, y_test = train_test_split(X_hist, faces.target, test_size=0.2, random_state=42)"
      ],
      "metadata": {
        "id": "BRpiphZYKROG"
      },
      "execution_count": 25,
      "outputs": []
    },
    {
      "cell_type": "markdown",
      "source": [
        "\n",
        "*   Dataset dibagi menjadi dua: 80% untuk training dan 20% untuk testing.\n",
        "*   X_hist adalah data fitur, dan faces.target adalah label."
      ],
      "metadata": {
        "id": "k9nTmZ85vsbh"
      }
    },
    {
      "cell_type": "code",
      "source": [
        "# Step 2: Initialize SVM model (kernel linear atau RBF)\n",
        "model = SVC(kernel='rbf', random_state=42)  # Anda bisa mencoba 'rbf' atau kernel lainnya juga"
      ],
      "metadata": {
        "id": "puySEXUPrw0y"
      },
      "execution_count": 26,
      "outputs": []
    },
    {
      "cell_type": "markdown",
      "source": [
        "\n",
        "*   Model SVM dibuat dengan kernel RBF yang digunakan untuk klasifikasi.\n",
        "*   Kernel RBF dipilih karena cocok untuk data non-linear."
      ],
      "metadata": {
        "id": "2sf9uZZkv38D"
      }
    },
    {
      "cell_type": "code",
      "source": [
        "# Step 3: Train the model with training data\n",
        "model.fit(X_train, y_train)"
      ],
      "metadata": {
        "colab": {
          "base_uri": "https://localhost:8080/",
          "height": 80
        },
        "id": "Z3wZqI_JrzI0",
        "outputId": "f90afb98-f60e-4b30-bd69-e1f6b86091e1"
      },
      "execution_count": 27,
      "outputs": [
        {
          "output_type": "execute_result",
          "data": {
            "text/plain": [
              "SVC(random_state=42)"
            ],
            "text/html": [
              "<style>#sk-container-id-1 {\n",
              "  /* Definition of color scheme common for light and dark mode */\n",
              "  --sklearn-color-text: black;\n",
              "  --sklearn-color-line: gray;\n",
              "  /* Definition of color scheme for unfitted estimators */\n",
              "  --sklearn-color-unfitted-level-0: #fff5e6;\n",
              "  --sklearn-color-unfitted-level-1: #f6e4d2;\n",
              "  --sklearn-color-unfitted-level-2: #ffe0b3;\n",
              "  --sklearn-color-unfitted-level-3: chocolate;\n",
              "  /* Definition of color scheme for fitted estimators */\n",
              "  --sklearn-color-fitted-level-0: #f0f8ff;\n",
              "  --sklearn-color-fitted-level-1: #d4ebff;\n",
              "  --sklearn-color-fitted-level-2: #b3dbfd;\n",
              "  --sklearn-color-fitted-level-3: cornflowerblue;\n",
              "\n",
              "  /* Specific color for light theme */\n",
              "  --sklearn-color-text-on-default-background: var(--sg-text-color, var(--theme-code-foreground, var(--jp-content-font-color1, black)));\n",
              "  --sklearn-color-background: var(--sg-background-color, var(--theme-background, var(--jp-layout-color0, white)));\n",
              "  --sklearn-color-border-box: var(--sg-text-color, var(--theme-code-foreground, var(--jp-content-font-color1, black)));\n",
              "  --sklearn-color-icon: #696969;\n",
              "\n",
              "  @media (prefers-color-scheme: dark) {\n",
              "    /* Redefinition of color scheme for dark theme */\n",
              "    --sklearn-color-text-on-default-background: var(--sg-text-color, var(--theme-code-foreground, var(--jp-content-font-color1, white)));\n",
              "    --sklearn-color-background: var(--sg-background-color, var(--theme-background, var(--jp-layout-color0, #111)));\n",
              "    --sklearn-color-border-box: var(--sg-text-color, var(--theme-code-foreground, var(--jp-content-font-color1, white)));\n",
              "    --sklearn-color-icon: #878787;\n",
              "  }\n",
              "}\n",
              "\n",
              "#sk-container-id-1 {\n",
              "  color: var(--sklearn-color-text);\n",
              "}\n",
              "\n",
              "#sk-container-id-1 pre {\n",
              "  padding: 0;\n",
              "}\n",
              "\n",
              "#sk-container-id-1 input.sk-hidden--visually {\n",
              "  border: 0;\n",
              "  clip: rect(1px 1px 1px 1px);\n",
              "  clip: rect(1px, 1px, 1px, 1px);\n",
              "  height: 1px;\n",
              "  margin: -1px;\n",
              "  overflow: hidden;\n",
              "  padding: 0;\n",
              "  position: absolute;\n",
              "  width: 1px;\n",
              "}\n",
              "\n",
              "#sk-container-id-1 div.sk-dashed-wrapped {\n",
              "  border: 1px dashed var(--sklearn-color-line);\n",
              "  margin: 0 0.4em 0.5em 0.4em;\n",
              "  box-sizing: border-box;\n",
              "  padding-bottom: 0.4em;\n",
              "  background-color: var(--sklearn-color-background);\n",
              "}\n",
              "\n",
              "#sk-container-id-1 div.sk-container {\n",
              "  /* jupyter's `normalize.less` sets `[hidden] { display: none; }`\n",
              "     but bootstrap.min.css set `[hidden] { display: none !important; }`\n",
              "     so we also need the `!important` here to be able to override the\n",
              "     default hidden behavior on the sphinx rendered scikit-learn.org.\n",
              "     See: https://github.com/scikit-learn/scikit-learn/issues/21755 */\n",
              "  display: inline-block !important;\n",
              "  position: relative;\n",
              "}\n",
              "\n",
              "#sk-container-id-1 div.sk-text-repr-fallback {\n",
              "  display: none;\n",
              "}\n",
              "\n",
              "div.sk-parallel-item,\n",
              "div.sk-serial,\n",
              "div.sk-item {\n",
              "  /* draw centered vertical line to link estimators */\n",
              "  background-image: linear-gradient(var(--sklearn-color-text-on-default-background), var(--sklearn-color-text-on-default-background));\n",
              "  background-size: 2px 100%;\n",
              "  background-repeat: no-repeat;\n",
              "  background-position: center center;\n",
              "}\n",
              "\n",
              "/* Parallel-specific style estimator block */\n",
              "\n",
              "#sk-container-id-1 div.sk-parallel-item::after {\n",
              "  content: \"\";\n",
              "  width: 100%;\n",
              "  border-bottom: 2px solid var(--sklearn-color-text-on-default-background);\n",
              "  flex-grow: 1;\n",
              "}\n",
              "\n",
              "#sk-container-id-1 div.sk-parallel {\n",
              "  display: flex;\n",
              "  align-items: stretch;\n",
              "  justify-content: center;\n",
              "  background-color: var(--sklearn-color-background);\n",
              "  position: relative;\n",
              "}\n",
              "\n",
              "#sk-container-id-1 div.sk-parallel-item {\n",
              "  display: flex;\n",
              "  flex-direction: column;\n",
              "}\n",
              "\n",
              "#sk-container-id-1 div.sk-parallel-item:first-child::after {\n",
              "  align-self: flex-end;\n",
              "  width: 50%;\n",
              "}\n",
              "\n",
              "#sk-container-id-1 div.sk-parallel-item:last-child::after {\n",
              "  align-self: flex-start;\n",
              "  width: 50%;\n",
              "}\n",
              "\n",
              "#sk-container-id-1 div.sk-parallel-item:only-child::after {\n",
              "  width: 0;\n",
              "}\n",
              "\n",
              "/* Serial-specific style estimator block */\n",
              "\n",
              "#sk-container-id-1 div.sk-serial {\n",
              "  display: flex;\n",
              "  flex-direction: column;\n",
              "  align-items: center;\n",
              "  background-color: var(--sklearn-color-background);\n",
              "  padding-right: 1em;\n",
              "  padding-left: 1em;\n",
              "}\n",
              "\n",
              "\n",
              "/* Toggleable style: style used for estimator/Pipeline/ColumnTransformer box that is\n",
              "clickable and can be expanded/collapsed.\n",
              "- Pipeline and ColumnTransformer use this feature and define the default style\n",
              "- Estimators will overwrite some part of the style using the `sk-estimator` class\n",
              "*/\n",
              "\n",
              "/* Pipeline and ColumnTransformer style (default) */\n",
              "\n",
              "#sk-container-id-1 div.sk-toggleable {\n",
              "  /* Default theme specific background. It is overwritten whether we have a\n",
              "  specific estimator or a Pipeline/ColumnTransformer */\n",
              "  background-color: var(--sklearn-color-background);\n",
              "}\n",
              "\n",
              "/* Toggleable label */\n",
              "#sk-container-id-1 label.sk-toggleable__label {\n",
              "  cursor: pointer;\n",
              "  display: block;\n",
              "  width: 100%;\n",
              "  margin-bottom: 0;\n",
              "  padding: 0.5em;\n",
              "  box-sizing: border-box;\n",
              "  text-align: center;\n",
              "}\n",
              "\n",
              "#sk-container-id-1 label.sk-toggleable__label-arrow:before {\n",
              "  /* Arrow on the left of the label */\n",
              "  content: \"▸\";\n",
              "  float: left;\n",
              "  margin-right: 0.25em;\n",
              "  color: var(--sklearn-color-icon);\n",
              "}\n",
              "\n",
              "#sk-container-id-1 label.sk-toggleable__label-arrow:hover:before {\n",
              "  color: var(--sklearn-color-text);\n",
              "}\n",
              "\n",
              "/* Toggleable content - dropdown */\n",
              "\n",
              "#sk-container-id-1 div.sk-toggleable__content {\n",
              "  max-height: 0;\n",
              "  max-width: 0;\n",
              "  overflow: hidden;\n",
              "  text-align: left;\n",
              "  /* unfitted */\n",
              "  background-color: var(--sklearn-color-unfitted-level-0);\n",
              "}\n",
              "\n",
              "#sk-container-id-1 div.sk-toggleable__content.fitted {\n",
              "  /* fitted */\n",
              "  background-color: var(--sklearn-color-fitted-level-0);\n",
              "}\n",
              "\n",
              "#sk-container-id-1 div.sk-toggleable__content pre {\n",
              "  margin: 0.2em;\n",
              "  border-radius: 0.25em;\n",
              "  color: var(--sklearn-color-text);\n",
              "  /* unfitted */\n",
              "  background-color: var(--sklearn-color-unfitted-level-0);\n",
              "}\n",
              "\n",
              "#sk-container-id-1 div.sk-toggleable__content.fitted pre {\n",
              "  /* unfitted */\n",
              "  background-color: var(--sklearn-color-fitted-level-0);\n",
              "}\n",
              "\n",
              "#sk-container-id-1 input.sk-toggleable__control:checked~div.sk-toggleable__content {\n",
              "  /* Expand drop-down */\n",
              "  max-height: 200px;\n",
              "  max-width: 100%;\n",
              "  overflow: auto;\n",
              "}\n",
              "\n",
              "#sk-container-id-1 input.sk-toggleable__control:checked~label.sk-toggleable__label-arrow:before {\n",
              "  content: \"▾\";\n",
              "}\n",
              "\n",
              "/* Pipeline/ColumnTransformer-specific style */\n",
              "\n",
              "#sk-container-id-1 div.sk-label input.sk-toggleable__control:checked~label.sk-toggleable__label {\n",
              "  color: var(--sklearn-color-text);\n",
              "  background-color: var(--sklearn-color-unfitted-level-2);\n",
              "}\n",
              "\n",
              "#sk-container-id-1 div.sk-label.fitted input.sk-toggleable__control:checked~label.sk-toggleable__label {\n",
              "  background-color: var(--sklearn-color-fitted-level-2);\n",
              "}\n",
              "\n",
              "/* Estimator-specific style */\n",
              "\n",
              "/* Colorize estimator box */\n",
              "#sk-container-id-1 div.sk-estimator input.sk-toggleable__control:checked~label.sk-toggleable__label {\n",
              "  /* unfitted */\n",
              "  background-color: var(--sklearn-color-unfitted-level-2);\n",
              "}\n",
              "\n",
              "#sk-container-id-1 div.sk-estimator.fitted input.sk-toggleable__control:checked~label.sk-toggleable__label {\n",
              "  /* fitted */\n",
              "  background-color: var(--sklearn-color-fitted-level-2);\n",
              "}\n",
              "\n",
              "#sk-container-id-1 div.sk-label label.sk-toggleable__label,\n",
              "#sk-container-id-1 div.sk-label label {\n",
              "  /* The background is the default theme color */\n",
              "  color: var(--sklearn-color-text-on-default-background);\n",
              "}\n",
              "\n",
              "/* On hover, darken the color of the background */\n",
              "#sk-container-id-1 div.sk-label:hover label.sk-toggleable__label {\n",
              "  color: var(--sklearn-color-text);\n",
              "  background-color: var(--sklearn-color-unfitted-level-2);\n",
              "}\n",
              "\n",
              "/* Label box, darken color on hover, fitted */\n",
              "#sk-container-id-1 div.sk-label.fitted:hover label.sk-toggleable__label.fitted {\n",
              "  color: var(--sklearn-color-text);\n",
              "  background-color: var(--sklearn-color-fitted-level-2);\n",
              "}\n",
              "\n",
              "/* Estimator label */\n",
              "\n",
              "#sk-container-id-1 div.sk-label label {\n",
              "  font-family: monospace;\n",
              "  font-weight: bold;\n",
              "  display: inline-block;\n",
              "  line-height: 1.2em;\n",
              "}\n",
              "\n",
              "#sk-container-id-1 div.sk-label-container {\n",
              "  text-align: center;\n",
              "}\n",
              "\n",
              "/* Estimator-specific */\n",
              "#sk-container-id-1 div.sk-estimator {\n",
              "  font-family: monospace;\n",
              "  border: 1px dotted var(--sklearn-color-border-box);\n",
              "  border-radius: 0.25em;\n",
              "  box-sizing: border-box;\n",
              "  margin-bottom: 0.5em;\n",
              "  /* unfitted */\n",
              "  background-color: var(--sklearn-color-unfitted-level-0);\n",
              "}\n",
              "\n",
              "#sk-container-id-1 div.sk-estimator.fitted {\n",
              "  /* fitted */\n",
              "  background-color: var(--sklearn-color-fitted-level-0);\n",
              "}\n",
              "\n",
              "/* on hover */\n",
              "#sk-container-id-1 div.sk-estimator:hover {\n",
              "  /* unfitted */\n",
              "  background-color: var(--sklearn-color-unfitted-level-2);\n",
              "}\n",
              "\n",
              "#sk-container-id-1 div.sk-estimator.fitted:hover {\n",
              "  /* fitted */\n",
              "  background-color: var(--sklearn-color-fitted-level-2);\n",
              "}\n",
              "\n",
              "/* Specification for estimator info (e.g. \"i\" and \"?\") */\n",
              "\n",
              "/* Common style for \"i\" and \"?\" */\n",
              "\n",
              ".sk-estimator-doc-link,\n",
              "a:link.sk-estimator-doc-link,\n",
              "a:visited.sk-estimator-doc-link {\n",
              "  float: right;\n",
              "  font-size: smaller;\n",
              "  line-height: 1em;\n",
              "  font-family: monospace;\n",
              "  background-color: var(--sklearn-color-background);\n",
              "  border-radius: 1em;\n",
              "  height: 1em;\n",
              "  width: 1em;\n",
              "  text-decoration: none !important;\n",
              "  margin-left: 1ex;\n",
              "  /* unfitted */\n",
              "  border: var(--sklearn-color-unfitted-level-1) 1pt solid;\n",
              "  color: var(--sklearn-color-unfitted-level-1);\n",
              "}\n",
              "\n",
              ".sk-estimator-doc-link.fitted,\n",
              "a:link.sk-estimator-doc-link.fitted,\n",
              "a:visited.sk-estimator-doc-link.fitted {\n",
              "  /* fitted */\n",
              "  border: var(--sklearn-color-fitted-level-1) 1pt solid;\n",
              "  color: var(--sklearn-color-fitted-level-1);\n",
              "}\n",
              "\n",
              "/* On hover */\n",
              "div.sk-estimator:hover .sk-estimator-doc-link:hover,\n",
              ".sk-estimator-doc-link:hover,\n",
              "div.sk-label-container:hover .sk-estimator-doc-link:hover,\n",
              ".sk-estimator-doc-link:hover {\n",
              "  /* unfitted */\n",
              "  background-color: var(--sklearn-color-unfitted-level-3);\n",
              "  color: var(--sklearn-color-background);\n",
              "  text-decoration: none;\n",
              "}\n",
              "\n",
              "div.sk-estimator.fitted:hover .sk-estimator-doc-link.fitted:hover,\n",
              ".sk-estimator-doc-link.fitted:hover,\n",
              "div.sk-label-container:hover .sk-estimator-doc-link.fitted:hover,\n",
              ".sk-estimator-doc-link.fitted:hover {\n",
              "  /* fitted */\n",
              "  background-color: var(--sklearn-color-fitted-level-3);\n",
              "  color: var(--sklearn-color-background);\n",
              "  text-decoration: none;\n",
              "}\n",
              "\n",
              "/* Span, style for the box shown on hovering the info icon */\n",
              ".sk-estimator-doc-link span {\n",
              "  display: none;\n",
              "  z-index: 9999;\n",
              "  position: relative;\n",
              "  font-weight: normal;\n",
              "  right: .2ex;\n",
              "  padding: .5ex;\n",
              "  margin: .5ex;\n",
              "  width: min-content;\n",
              "  min-width: 20ex;\n",
              "  max-width: 50ex;\n",
              "  color: var(--sklearn-color-text);\n",
              "  box-shadow: 2pt 2pt 4pt #999;\n",
              "  /* unfitted */\n",
              "  background: var(--sklearn-color-unfitted-level-0);\n",
              "  border: .5pt solid var(--sklearn-color-unfitted-level-3);\n",
              "}\n",
              "\n",
              ".sk-estimator-doc-link.fitted span {\n",
              "  /* fitted */\n",
              "  background: var(--sklearn-color-fitted-level-0);\n",
              "  border: var(--sklearn-color-fitted-level-3);\n",
              "}\n",
              "\n",
              ".sk-estimator-doc-link:hover span {\n",
              "  display: block;\n",
              "}\n",
              "\n",
              "/* \"?\"-specific style due to the `<a>` HTML tag */\n",
              "\n",
              "#sk-container-id-1 a.estimator_doc_link {\n",
              "  float: right;\n",
              "  font-size: 1rem;\n",
              "  line-height: 1em;\n",
              "  font-family: monospace;\n",
              "  background-color: var(--sklearn-color-background);\n",
              "  border-radius: 1rem;\n",
              "  height: 1rem;\n",
              "  width: 1rem;\n",
              "  text-decoration: none;\n",
              "  /* unfitted */\n",
              "  color: var(--sklearn-color-unfitted-level-1);\n",
              "  border: var(--sklearn-color-unfitted-level-1) 1pt solid;\n",
              "}\n",
              "\n",
              "#sk-container-id-1 a.estimator_doc_link.fitted {\n",
              "  /* fitted */\n",
              "  border: var(--sklearn-color-fitted-level-1) 1pt solid;\n",
              "  color: var(--sklearn-color-fitted-level-1);\n",
              "}\n",
              "\n",
              "/* On hover */\n",
              "#sk-container-id-1 a.estimator_doc_link:hover {\n",
              "  /* unfitted */\n",
              "  background-color: var(--sklearn-color-unfitted-level-3);\n",
              "  color: var(--sklearn-color-background);\n",
              "  text-decoration: none;\n",
              "}\n",
              "\n",
              "#sk-container-id-1 a.estimator_doc_link.fitted:hover {\n",
              "  /* fitted */\n",
              "  background-color: var(--sklearn-color-fitted-level-3);\n",
              "}\n",
              "</style><div id=\"sk-container-id-1\" class=\"sk-top-container\"><div class=\"sk-text-repr-fallback\"><pre>SVC(random_state=42)</pre><b>In a Jupyter environment, please rerun this cell to show the HTML representation or trust the notebook. <br />On GitHub, the HTML representation is unable to render, please try loading this page with nbviewer.org.</b></div><div class=\"sk-container\" hidden><div class=\"sk-item\"><div class=\"sk-estimator fitted sk-toggleable\"><input class=\"sk-toggleable__control sk-hidden--visually\" id=\"sk-estimator-id-1\" type=\"checkbox\" checked><label for=\"sk-estimator-id-1\" class=\"sk-toggleable__label fitted sk-toggleable__label-arrow fitted\">&nbsp;&nbsp;SVC<a class=\"sk-estimator-doc-link fitted\" rel=\"noreferrer\" target=\"_blank\" href=\"https://scikit-learn.org/1.5/modules/generated/sklearn.svm.SVC.html\">?<span>Documentation for SVC</span></a><span class=\"sk-estimator-doc-link fitted\">i<span>Fitted</span></span></label><div class=\"sk-toggleable__content fitted\"><pre>SVC(random_state=42)</pre></div> </div></div></div></div>"
            ]
          },
          "metadata": {},
          "execution_count": 27
        }
      ]
    },
    {
      "cell_type": "markdown",
      "source": [
        "\n",
        "*   Model dilatih menggunakan data training untuk mempelajari pola dari data."
      ],
      "metadata": {
        "id": "9Y4wv3QQv_1L"
      }
    },
    {
      "cell_type": "code",
      "source": [
        "# Step 4: Make predictions on the test data\n",
        "y_pred = model.predict(X_test)"
      ],
      "metadata": {
        "id": "ZlL1mIGJr1YJ"
      },
      "execution_count": 28,
      "outputs": []
    },
    {
      "cell_type": "markdown",
      "source": [
        "\n",
        "*   Model digunakan untuk memprediksi data testing (data yang belum pernah dilihat oleh model)."
      ],
      "metadata": {
        "id": "DSaM3yUrwFzQ"
      }
    },
    {
      "cell_type": "code",
      "source": [
        "# Step 5: Evaluate the model (Accuracy and Classification Report)\n",
        "accuracy = accuracy_score(y_test, y_pred)\n",
        "print(\"Accuracy:\", accuracy)\n",
        "\n",
        "# Mendapatkan label unik dari data yang sebenarnya\n",
        "unique_labels = np.unique(y_test)\n",
        "\n",
        "# Cetak laporan klasifikasi dengan parameter 'labels'\n",
        "print(\"Classification Report:\\n\", classification_report(y_test, y_pred, labels=unique_labels, target_names=faces.target_names[unique_labels]))"
      ],
      "metadata": {
        "colab": {
          "base_uri": "https://localhost:8080/"
        },
        "id": "gjT5sp-9r28G",
        "outputId": "fc3af2c1-9b61-4869-d5a6-f6092c5e0718"
      },
      "execution_count": 29,
      "outputs": [
        {
          "output_type": "stream",
          "name": "stdout",
          "text": [
            "Accuracy: 0.7012987012987013\n",
            "Classification Report:\n",
            "                precision    recall  f1-score   support\n",
            "\n",
            " Colin Powell       0.00      0.00      0.00        46\n",
            "George W Bush       0.70      1.00      0.82       108\n",
            "\n",
            "     accuracy                           0.70       154\n",
            "    macro avg       0.35      0.50      0.41       154\n",
            " weighted avg       0.49      0.70      0.58       154\n",
            "\n"
          ]
        },
        {
          "output_type": "stream",
          "name": "stderr",
          "text": [
            "/usr/local/lib/python3.10/dist-packages/sklearn/metrics/_classification.py:1531: UndefinedMetricWarning: Precision is ill-defined and being set to 0.0 in labels with no predicted samples. Use `zero_division` parameter to control this behavior.\n",
            "  _warn_prf(average, modifier, f\"{metric.capitalize()} is\", len(result))\n",
            "/usr/local/lib/python3.10/dist-packages/sklearn/metrics/_classification.py:1531: UndefinedMetricWarning: Precision is ill-defined and being set to 0.0 in labels with no predicted samples. Use `zero_division` parameter to control this behavior.\n",
            "  _warn_prf(average, modifier, f\"{metric.capitalize()} is\", len(result))\n",
            "/usr/local/lib/python3.10/dist-packages/sklearn/metrics/_classification.py:1531: UndefinedMetricWarning: Precision is ill-defined and being set to 0.0 in labels with no predicted samples. Use `zero_division` parameter to control this behavior.\n",
            "  _warn_prf(average, modifier, f\"{metric.capitalize()} is\", len(result))\n"
          ]
        }
      ]
    },
    {
      "cell_type": "markdown",
      "source": [
        "\n",
        "*   Menghitung akurasi: seberapa sering prediksi model sesuai dengan label yang sebenarnya.\n",
        "*   Precision: Akurasi prediksi per kelas.\n",
        "*   Recall: Berapa banyak data yang terprediksi benar.\n",
        "*   F1-score: Gabungan precision dan recall."
      ],
      "metadata": {
        "id": "L7f6EC2_wOFr"
      }
    },
    {
      "cell_type": "markdown",
      "metadata": {
        "id": "2EAzZdIlYaPs"
      },
      "source": [
        "# Evaluation"
      ]
    },
    {
      "cell_type": "code",
      "execution_count": null,
      "metadata": {
        "id": "ZKC3Bb5iYaPs"
      },
      "outputs": [],
      "source": [
        "'''\n",
        "    Pada bagian ini, lakukan evaluasi terhadap data training dan data testing\n",
        "    dengan menggunakan metric akurasi dan juga classfication report\n",
        "\n",
        "    Hints:\n",
        "        Anda dapat menggunakan referensi Jobseet 4 Percobaan 5\n",
        "'''"
      ]
    },
    {
      "cell_type": "code",
      "source": [
        "# Evaluasi Model pada Data Training\n",
        "print(\"Evaluation on Training Data:\")\n",
        "\n",
        "# Prediksi hasil dari data training\n",
        "y_train_pred = model.predict(X_train)\n",
        "\n",
        "# Menghitung akurasi untuk data training\n",
        "train_accuracy = accuracy_score(y_train, y_train_pred)\n",
        "print(\"Training Accuracy:\", train_accuracy)\n",
        "\n",
        "# Classification report untuk data training\n",
        "print(\"Training Classification Report:\\n\", classification_report(y_train, y_train_pred, labels=unique_labels, target_names=faces.target_names[unique_labels]))\n",
        "\n",
        "# Evaluasi Model pada Data Testing\n",
        "print(\"\\nEvaluation on Testing Data:\")\n",
        "\n",
        "# Prediksi hasil dari data testing\n",
        "y_test_pred = model.predict(X_test)\n",
        "\n",
        "# Menghitung akurasi untuk data testing\n",
        "test_accuracy = accuracy_score(y_test, y_test_pred)\n",
        "print(\"Testing Accuracy:\", test_accuracy)\n",
        "\n",
        "# Classification report untuk data testing\n",
        "print(\"Testing Classification Report:\\n\", classification_report(y_test, y_test_pred, labels=unique_labels, target_names=faces.target_names[unique_labels]))\n"
      ],
      "metadata": {
        "colab": {
          "base_uri": "https://localhost:8080/"
        },
        "id": "R5AlwV8oAnya",
        "outputId": "cd475414-2039-483a-814d-0cafaa222b7c"
      },
      "execution_count": 24,
      "outputs": [
        {
          "output_type": "stream",
          "name": "stdout",
          "text": [
            "Evaluation on Training Data:\n",
            "Training Accuracy: 0.6895424836601307\n",
            "Training Classification Report:\n",
            "                precision    recall  f1-score   support\n",
            "\n",
            " Colin Powell       0.00      0.00      0.00       190\n",
            "George W Bush       0.69      1.00      0.82       422\n",
            "\n",
            "     accuracy                           0.69       612\n",
            "    macro avg       0.34      0.50      0.41       612\n",
            " weighted avg       0.48      0.69      0.56       612\n",
            "\n",
            "\n",
            "Evaluation on Testing Data:\n",
            "Testing Accuracy: 0.7012987012987013\n",
            "Testing Classification Report:\n",
            "                precision    recall  f1-score   support\n",
            "\n",
            " Colin Powell       0.00      0.00      0.00        46\n",
            "George W Bush       0.70      1.00      0.82       108\n",
            "\n",
            "     accuracy                           0.70       154\n",
            "    macro avg       0.35      0.50      0.41       154\n",
            " weighted avg       0.49      0.70      0.58       154\n",
            "\n"
          ]
        },
        {
          "output_type": "stream",
          "name": "stderr",
          "text": [
            "/usr/local/lib/python3.10/dist-packages/sklearn/metrics/_classification.py:1531: UndefinedMetricWarning: Precision is ill-defined and being set to 0.0 in labels with no predicted samples. Use `zero_division` parameter to control this behavior.\n",
            "  _warn_prf(average, modifier, f\"{metric.capitalize()} is\", len(result))\n",
            "/usr/local/lib/python3.10/dist-packages/sklearn/metrics/_classification.py:1531: UndefinedMetricWarning: Precision is ill-defined and being set to 0.0 in labels with no predicted samples. Use `zero_division` parameter to control this behavior.\n",
            "  _warn_prf(average, modifier, f\"{metric.capitalize()} is\", len(result))\n",
            "/usr/local/lib/python3.10/dist-packages/sklearn/metrics/_classification.py:1531: UndefinedMetricWarning: Precision is ill-defined and being set to 0.0 in labels with no predicted samples. Use `zero_division` parameter to control this behavior.\n",
            "  _warn_prf(average, modifier, f\"{metric.capitalize()} is\", len(result))\n",
            "/usr/local/lib/python3.10/dist-packages/sklearn/metrics/_classification.py:1531: UndefinedMetricWarning: Precision is ill-defined and being set to 0.0 in labels with no predicted samples. Use `zero_division` parameter to control this behavior.\n",
            "  _warn_prf(average, modifier, f\"{metric.capitalize()} is\", len(result))\n",
            "/usr/local/lib/python3.10/dist-packages/sklearn/metrics/_classification.py:1531: UndefinedMetricWarning: Precision is ill-defined and being set to 0.0 in labels with no predicted samples. Use `zero_division` parameter to control this behavior.\n",
            "  _warn_prf(average, modifier, f\"{metric.capitalize()} is\", len(result))\n",
            "/usr/local/lib/python3.10/dist-packages/sklearn/metrics/_classification.py:1531: UndefinedMetricWarning: Precision is ill-defined and being set to 0.0 in labels with no predicted samples. Use `zero_division` parameter to control this behavior.\n",
            "  _warn_prf(average, modifier, f\"{metric.capitalize()} is\", len(result))\n"
          ]
        }
      ]
    },
    {
      "cell_type": "markdown",
      "source": [
        "**Inti dari Evaluasi:**\n",
        "\n",
        "*   `Akurasi`: Mengukur seberapa benar prediksi model (presentase tebakan yang benar).\n",
        "*   `Classification Report`: Menampilkan performa model untuk tiap kelas, termasuk seberapa sering model menebak dengan benar dan seberapa lengkap data yang ditebak dengan benar.\n",
        "\n",
        "Evaluasi ini dilakukan dua kali, pada data `training` (data yang digunakan untuk melatih model) dan `testing` (data baru untuk menguji model).\n",
        "\n"
      ],
      "metadata": {
        "id": "TwQkq96u2SpI"
      }
    },
    {
      "cell_type": "markdown",
      "source": [
        "\n",
        "\n",
        "---\n",
        "\n",
        "**Challenge**"
      ],
      "metadata": {
        "id": "G6Xh8z9Z-CpI"
      }
    },
    {
      "cell_type": "markdown",
      "source": [
        "Confusion Matrix untuk evaluasi tambahan"
      ],
      "metadata": {
        "id": "GHSUqEVzCip4"
      }
    },
    {
      "cell_type": "code",
      "source": [
        "conf_matrix = confusion_matrix(y_test, y_pred)\n",
        "plt.figure(figsize=(10, 7))\n",
        "sns.heatmap(conf_matrix, annot=True, fmt='d', cmap='Blues', xticklabels=faces.target_names[unique_labels], yticklabels=faces.target_names[unique_labels])\n",
        "plt.xlabel('Predicted')\n",
        "plt.ylabel('Actual')\n",
        "plt.title('Confusion Matrix')\n",
        "plt.show()"
      ],
      "metadata": {
        "colab": {
          "base_uri": "https://localhost:8080/",
          "height": 641
        },
        "id": "vgEZFuoKChLF",
        "outputId": "ec41ab49-ead4-46d4-f95c-afc040b1a895"
      },
      "execution_count": 23,
      "outputs": [
        {
          "output_type": "display_data",
          "data": {
            "text/plain": [
              "<Figure size 1000x700 with 2 Axes>"
            ],
            "image/png": "[encoded data removed]"
          },
          "metadata": {}
        }
      ]
    },
    {
      "cell_type": "markdown",
      "source": [
        "\n",
        "\n",
        "---\n",
        "\n"
      ],
      "metadata": {
        "id": "Rqlxy50W7LIy"
      }
    },
    {
      "cell_type": "markdown",
      "source": [
        "**Menggunakan fitur lain selain histogram**"
      ],
      "metadata": {
        "id": "Fu3GICJz7Np0"
      }
    },
    {
      "cell_type": "markdown",
      "source": [
        "# HOG (Histogram of Oriented Gradients)"
      ],
      "metadata": {
        "id": "HPhAXLiX-cUt"
      }
    },
    {
      "cell_type": "code",
      "source": [
        "from skimage.feature import hog\n",
        "\n",
        "def extract_hog_features(image):\n",
        "    # Ekstraksi HOG untuk setiap channel warna (R, G, B)\n",
        "    hog_r = hog(image[:, :, 0], orientations=9, pixels_per_cell=(8, 8), cells_per_block=(2, 2), visualize=False)\n",
        "    hog_g = hog(image[:, :, 1], orientations=9, pixels_per_cell=(8, 8), cells_per_block=(2, 2), visualize=False)\n",
        "    hog_b = hog(image[:, :, 2], orientations=9, pixels_per_cell=(8, 8), cells_per_block=(2, 2), visualize=False)\n",
        "\n",
        "    # Menggabungkan HOG dari setiap channel menjadi satu vektor fitur\n",
        "    features = np.concatenate((hog_r, hog_g, hog_b))\n",
        "\n",
        "    return features\n",
        "\n"
      ],
      "metadata": {
        "id": "7ZT4FJKT-TS0"
      },
      "execution_count": 32,
      "outputs": []
    },
    {
      "cell_type": "markdown",
      "source": [
        "\n",
        "\n",
        "*  ` hog()` digunakan untuk mengekstrak fitur HOG dari gambar.\n",
        "*   Gambar terdiri dari 3 channel warna (R, G, B), jadi HOG diekstrak secara terpisah untuk masing-masing channel.\n",
        "*   image`[:, :, 0]` mengacu pada channel merah, `image[:, :, 1]` untuk hijau, dan `image[:, :, 2]` untuk biru.\n",
        "*   Setelah HOG diekstrak untuk masing-masing channel, hasilnya digabungkan menggunakan `np.concatenate()` sehingga menjadi satu vektor fitur.\n",
        "\n"
      ],
      "metadata": {
        "id": "JETj1kzKBAVd"
      }
    },
    {
      "cell_type": "code",
      "source": [
        "X_hog = np.array([extract_hog_features(image) for image in faces.images])\n"
      ],
      "metadata": {
        "id": "EoH_vP4B_kq_"
      },
      "execution_count": 33,
      "outputs": []
    },
    {
      "cell_type": "markdown",
      "source": [
        "\n",
        "\n",
        "*   Menggunakan list comprehension untuk menerapkan fungsi `extract_hog_features` pada semua gambar dalam dataset `faces`.\n",
        "*   `X_hog` adalah matriks fitur HOG yang dihasilkan dari seluruh gambar dalam dataset.\n",
        "\n",
        "\n"
      ],
      "metadata": {
        "id": "gMUHUjweBRU2"
      }
    },
    {
      "cell_type": "code",
      "source": [
        "# Step 1: Split data into training and testing sets\n",
        "X_train, X_test, y_train, y_test = train_test_split(X_hog, faces.target, test_size=0.2, random_state=42)\n",
        "\n",
        "# Step 2: Initialize SVM model\n",
        "model = SVC(kernel='linear', random_state=42)\n",
        "\n",
        "# Step 3: Train the model with training data\n",
        "model.fit(X_train, y_train)"
      ],
      "metadata": {
        "colab": {
          "base_uri": "https://localhost:8080/",
          "height": 80
        },
        "id": "lIkg4s_z-vSP",
        "outputId": "ea9ffc6c-88ef-4c5d-ceec-1c87e86855f7"
      },
      "execution_count": 35,
      "outputs": [
        {
          "output_type": "execute_result",
          "data": {
            "text/plain": [
              "SVC(kernel='linear', random_state=42)"
            ],
            "text/html": [
              "<style>#sk-container-id-2 {\n",
              "  /* Definition of color scheme common for light and dark mode */\n",
              "  --sklearn-color-text: black;\n",
              "  --sklearn-color-line: gray;\n",
              "  /* Definition of color scheme for unfitted estimators */\n",
              "  --sklearn-color-unfitted-level-0: #fff5e6;\n",
              "  --sklearn-color-unfitted-level-1: #f6e4d2;\n",
              "  --sklearn-color-unfitted-level-2: #ffe0b3;\n",
              "  --sklearn-color-unfitted-level-3: chocolate;\n",
              "  /* Definition of color scheme for fitted estimators */\n",
              "  --sklearn-color-fitted-level-0: #f0f8ff;\n",
              "  --sklearn-color-fitted-level-1: #d4ebff;\n",
              "  --sklearn-color-fitted-level-2: #b3dbfd;\n",
              "  --sklearn-color-fitted-level-3: cornflowerblue;\n",
              "\n",
              "  /* Specific color for light theme */\n",
              "  --sklearn-color-text-on-default-background: var(--sg-text-color, var(--theme-code-foreground, var(--jp-content-font-color1, black)));\n",
              "  --sklearn-color-background: var(--sg-background-color, var(--theme-background, var(--jp-layout-color0, white)));\n",
              "  --sklearn-color-border-box: var(--sg-text-color, var(--theme-code-foreground, var(--jp-content-font-color1, black)));\n",
              "  --sklearn-color-icon: #696969;\n",
              "\n",
              "  @media (prefers-color-scheme: dark) {\n",
              "    /* Redefinition of color scheme for dark theme */\n",
              "    --sklearn-color-text-on-default-background: var(--sg-text-color, var(--theme-code-foreground, var(--jp-content-font-color1, white)));\n",
              "    --sklearn-color-background: var(--sg-background-color, var(--theme-background, var(--jp-layout-color0, #111)));\n",
              "    --sklearn-color-border-box: var(--sg-text-color, var(--theme-code-foreground, var(--jp-content-font-color1, white)));\n",
              "    --sklearn-color-icon: #878787;\n",
              "  }\n",
              "}\n",
              "\n",
              "#sk-container-id-2 {\n",
              "  color: var(--sklearn-color-text);\n",
              "}\n",
              "\n",
              "#sk-container-id-2 pre {\n",
              "  padding: 0;\n",
              "}\n",
              "\n",
              "#sk-container-id-2 input.sk-hidden--visually {\n",
              "  border: 0;\n",
              "  clip: rect(1px 1px 1px 1px);\n",
              "  clip: rect(1px, 1px, 1px, 1px);\n",
              "  height: 1px;\n",
              "  margin: -1px;\n",
              "  overflow: hidden;\n",
              "  padding: 0;\n",
              "  position: absolute;\n",
              "  width: 1px;\n",
              "}\n",
              "\n",
              "#sk-container-id-2 div.sk-dashed-wrapped {\n",
              "  border: 1px dashed var(--sklearn-color-line);\n",
              "  margin: 0 0.4em 0.5em 0.4em;\n",
              "  box-sizing: border-box;\n",
              "  padding-bottom: 0.4em;\n",
              "  background-color: var(--sklearn-color-background);\n",
              "}\n",
              "\n",
              "#sk-container-id-2 div.sk-container {\n",
              "  /* jupyter's `normalize.less` sets `[hidden] { display: none; }`\n",
              "     but bootstrap.min.css set `[hidden] { display: none !important; }`\n",
              "     so we also need the `!important` here to be able to override the\n",
              "     default hidden behavior on the sphinx rendered scikit-learn.org.\n",
              "     See: https://github.com/scikit-learn/scikit-learn/issues/21755 */\n",
              "  display: inline-block !important;\n",
              "  position: relative;\n",
              "}\n",
              "\n",
              "#sk-container-id-2 div.sk-text-repr-fallback {\n",
              "  display: none;\n",
              "}\n",
              "\n",
              "div.sk-parallel-item,\n",
              "div.sk-serial,\n",
              "div.sk-item {\n",
              "  /* draw centered vertical line to link estimators */\n",
              "  background-image: linear-gradient(var(--sklearn-color-text-on-default-background), var(--sklearn-color-text-on-default-background));\n",
              "  background-size: 2px 100%;\n",
              "  background-repeat: no-repeat;\n",
              "  background-position: center center;\n",
              "}\n",
              "\n",
              "/* Parallel-specific style estimator block */\n",
              "\n",
              "#sk-container-id-2 div.sk-parallel-item::after {\n",
              "  content: \"\";\n",
              "  width: 100%;\n",
              "  border-bottom: 2px solid var(--sklearn-color-text-on-default-background);\n",
              "  flex-grow: 1;\n",
              "}\n",
              "\n",
              "#sk-container-id-2 div.sk-parallel {\n",
              "  display: flex;\n",
              "  align-items: stretch;\n",
              "  justify-content: center;\n",
              "  background-color: var(--sklearn-color-background);\n",
              "  position: relative;\n",
              "}\n",
              "\n",
              "#sk-container-id-2 div.sk-parallel-item {\n",
              "  display: flex;\n",
              "  flex-direction: column;\n",
              "}\n",
              "\n",
              "#sk-container-id-2 div.sk-parallel-item:first-child::after {\n",
              "  align-self: flex-end;\n",
              "  width: 50%;\n",
              "}\n",
              "\n",
              "#sk-container-id-2 div.sk-parallel-item:last-child::after {\n",
              "  align-self: flex-start;\n",
              "  width: 50%;\n",
              "}\n",
              "\n",
              "#sk-container-id-2 div.sk-parallel-item:only-child::after {\n",
              "  width: 0;\n",
              "}\n",
              "\n",
              "/* Serial-specific style estimator block */\n",
              "\n",
              "#sk-container-id-2 div.sk-serial {\n",
              "  display: flex;\n",
              "  flex-direction: column;\n",
              "  align-items: center;\n",
              "  background-color: var(--sklearn-color-background);\n",
              "  padding-right: 1em;\n",
              "  padding-left: 1em;\n",
              "}\n",
              "\n",
              "\n",
              "/* Toggleable style: style used for estimator/Pipeline/ColumnTransformer box that is\n",
              "clickable and can be expanded/collapsed.\n",
              "- Pipeline and ColumnTransformer use this feature and define the default style\n",
              "- Estimators will overwrite some part of the style using the `sk-estimator` class\n",
              "*/\n",
              "\n",
              "/* Pipeline and ColumnTransformer style (default) */\n",
              "\n",
              "#sk-container-id-2 div.sk-toggleable {\n",
              "  /* Default theme specific background. It is overwritten whether we have a\n",
              "  specific estimator or a Pipeline/ColumnTransformer */\n",
              "  background-color: var(--sklearn-color-background);\n",
              "}\n",
              "\n",
              "/* Toggleable label */\n",
              "#sk-container-id-2 label.sk-toggleable__label {\n",
              "  cursor: pointer;\n",
              "  display: block;\n",
              "  width: 100%;\n",
              "  margin-bottom: 0;\n",
              "  padding: 0.5em;\n",
              "  box-sizing: border-box;\n",
              "  text-align: center;\n",
              "}\n",
              "\n",
              "#sk-container-id-2 label.sk-toggleable__label-arrow:before {\n",
              "  /* Arrow on the left of the label */\n",
              "  content: \"▸\";\n",
              "  float: left;\n",
              "  margin-right: 0.25em;\n",
              "  color: var(--sklearn-color-icon);\n",
              "}\n",
              "\n",
              "#sk-container-id-2 label.sk-toggleable__label-arrow:hover:before {\n",
              "  color: var(--sklearn-color-text);\n",
              "}\n",
              "\n",
              "/* Toggleable content - dropdown */\n",
              "\n",
              "#sk-container-id-2 div.sk-toggleable__content {\n",
              "  max-height: 0;\n",
              "  max-width: 0;\n",
              "  overflow: hidden;\n",
              "  text-align: left;\n",
              "  /* unfitted */\n",
              "  background-color: var(--sklearn-color-unfitted-level-0);\n",
              "}\n",
              "\n",
              "#sk-container-id-2 div.sk-toggleable__content.fitted {\n",
              "  /* fitted */\n",
              "  background-color: var(--sklearn-color-fitted-level-0);\n",
              "}\n",
              "\n",
              "#sk-container-id-2 div.sk-toggleable__content pre {\n",
              "  margin: 0.2em;\n",
              "  border-radius: 0.25em;\n",
              "  color: var(--sklearn-color-text);\n",
              "  /* unfitted */\n",
              "  background-color: var(--sklearn-color-unfitted-level-0);\n",
              "}\n",
              "\n",
              "#sk-container-id-2 div.sk-toggleable__content.fitted pre {\n",
              "  /* unfitted */\n",
              "  background-color: var(--sklearn-color-fitted-level-0);\n",
              "}\n",
              "\n",
              "#sk-container-id-2 input.sk-toggleable__control:checked~div.sk-toggleable__content {\n",
              "  /* Expand drop-down */\n",
              "  max-height: 200px;\n",
              "  max-width: 100%;\n",
              "  overflow: auto;\n",
              "}\n",
              "\n",
              "#sk-container-id-2 input.sk-toggleable__control:checked~label.sk-toggleable__label-arrow:before {\n",
              "  content: \"▾\";\n",
              "}\n",
              "\n",
              "/* Pipeline/ColumnTransformer-specific style */\n",
              "\n",
              "#sk-container-id-2 div.sk-label input.sk-toggleable__control:checked~label.sk-toggleable__label {\n",
              "  color: var(--sklearn-color-text);\n",
              "  background-color: var(--sklearn-color-unfitted-level-2);\n",
              "}\n",
              "\n",
              "#sk-container-id-2 div.sk-label.fitted input.sk-toggleable__control:checked~label.sk-toggleable__label {\n",
              "  background-color: var(--sklearn-color-fitted-level-2);\n",
              "}\n",
              "\n",
              "/* Estimator-specific style */\n",
              "\n",
              "/* Colorize estimator box */\n",
              "#sk-container-id-2 div.sk-estimator input.sk-toggleable__control:checked~label.sk-toggleable__label {\n",
              "  /* unfitted */\n",
              "  background-color: var(--sklearn-color-unfitted-level-2);\n",
              "}\n",
              "\n",
              "#sk-container-id-2 div.sk-estimator.fitted input.sk-toggleable__control:checked~label.sk-toggleable__label {\n",
              "  /* fitted */\n",
              "  background-color: var(--sklearn-color-fitted-level-2);\n",
              "}\n",
              "\n",
              "#sk-container-id-2 div.sk-label label.sk-toggleable__label,\n",
              "#sk-container-id-2 div.sk-label label {\n",
              "  /* The background is the default theme color */\n",
              "  color: var(--sklearn-color-text-on-default-background);\n",
              "}\n",
              "\n",
              "/* On hover, darken the color of the background */\n",
              "#sk-container-id-2 div.sk-label:hover label.sk-toggleable__label {\n",
              "  color: var(--sklearn-color-text);\n",
              "  background-color: var(--sklearn-color-unfitted-level-2);\n",
              "}\n",
              "\n",
              "/* Label box, darken color on hover, fitted */\n",
              "#sk-container-id-2 div.sk-label.fitted:hover label.sk-toggleable__label.fitted {\n",
              "  color: var(--sklearn-color-text);\n",
              "  background-color: var(--sklearn-color-fitted-level-2);\n",
              "}\n",
              "\n",
              "/* Estimator label */\n",
              "\n",
              "#sk-container-id-2 div.sk-label label {\n",
              "  font-family: monospace;\n",
              "  font-weight: bold;\n",
              "  display: inline-block;\n",
              "  line-height: 1.2em;\n",
              "}\n",
              "\n",
              "#sk-container-id-2 div.sk-label-container {\n",
              "  text-align: center;\n",
              "}\n",
              "\n",
              "/* Estimator-specific */\n",
              "#sk-container-id-2 div.sk-estimator {\n",
              "  font-family: monospace;\n",
              "  border: 1px dotted var(--sklearn-color-border-box);\n",
              "  border-radius: 0.25em;\n",
              "  box-sizing: border-box;\n",
              "  margin-bottom: 0.5em;\n",
              "  /* unfitted */\n",
              "  background-color: var(--sklearn-color-unfitted-level-0);\n",
              "}\n",
              "\n",
              "#sk-container-id-2 div.sk-estimator.fitted {\n",
              "  /* fitted */\n",
              "  background-color: var(--sklearn-color-fitted-level-0);\n",
              "}\n",
              "\n",
              "/* on hover */\n",
              "#sk-container-id-2 div.sk-estimator:hover {\n",
              "  /* unfitted */\n",
              "  background-color: var(--sklearn-color-unfitted-level-2);\n",
              "}\n",
              "\n",
              "#sk-container-id-2 div.sk-estimator.fitted:hover {\n",
              "  /* fitted */\n",
              "  background-color: var(--sklearn-color-fitted-level-2);\n",
              "}\n",
              "\n",
              "/* Specification for estimator info (e.g. \"i\" and \"?\") */\n",
              "\n",
              "/* Common style for \"i\" and \"?\" */\n",
              "\n",
              ".sk-estimator-doc-link,\n",
              "a:link.sk-estimator-doc-link,\n",
              "a:visited.sk-estimator-doc-link {\n",
              "  float: right;\n",
              "  font-size: smaller;\n",
              "  line-height: 1em;\n",
              "  font-family: monospace;\n",
              "  background-color: var(--sklearn-color-background);\n",
              "  border-radius: 1em;\n",
              "  height: 1em;\n",
              "  width: 1em;\n",
              "  text-decoration: none !important;\n",
              "  margin-left: 1ex;\n",
              "  /* unfitted */\n",
              "  border: var(--sklearn-color-unfitted-level-1) 1pt solid;\n",
              "  color: var(--sklearn-color-unfitted-level-1);\n",
              "}\n",
              "\n",
              ".sk-estimator-doc-link.fitted,\n",
              "a:link.sk-estimator-doc-link.fitted,\n",
              "a:visited.sk-estimator-doc-link.fitted {\n",
              "  /* fitted */\n",
              "  border: var(--sklearn-color-fitted-level-1) 1pt solid;\n",
              "  color: var(--sklearn-color-fitted-level-1);\n",
              "}\n",
              "\n",
              "/* On hover */\n",
              "div.sk-estimator:hover .sk-estimator-doc-link:hover,\n",
              ".sk-estimator-doc-link:hover,\n",
              "div.sk-label-container:hover .sk-estimator-doc-link:hover,\n",
              ".sk-estimator-doc-link:hover {\n",
              "  /* unfitted */\n",
              "  background-color: var(--sklearn-color-unfitted-level-3);\n",
              "  color: var(--sklearn-color-background);\n",
              "  text-decoration: none;\n",
              "}\n",
              "\n",
              "div.sk-estimator.fitted:hover .sk-estimator-doc-link.fitted:hover,\n",
              ".sk-estimator-doc-link.fitted:hover,\n",
              "div.sk-label-container:hover .sk-estimator-doc-link.fitted:hover,\n",
              ".sk-estimator-doc-link.fitted:hover {\n",
              "  /* fitted */\n",
              "  background-color: var(--sklearn-color-fitted-level-3);\n",
              "  color: var(--sklearn-color-background);\n",
              "  text-decoration: none;\n",
              "}\n",
              "\n",
              "/* Span, style for the box shown on hovering the info icon */\n",
              ".sk-estimator-doc-link span {\n",
              "  display: none;\n",
              "  z-index: 9999;\n",
              "  position: relative;\n",
              "  font-weight: normal;\n",
              "  right: .2ex;\n",
              "  padding: .5ex;\n",
              "  margin: .5ex;\n",
              "  width: min-content;\n",
              "  min-width: 20ex;\n",
              "  max-width: 50ex;\n",
              "  color: var(--sklearn-color-text);\n",
              "  box-shadow: 2pt 2pt 4pt #999;\n",
              "  /* unfitted */\n",
              "  background: var(--sklearn-color-unfitted-level-0);\n",
              "  border: .5pt solid var(--sklearn-color-unfitted-level-3);\n",
              "}\n",
              "\n",
              ".sk-estimator-doc-link.fitted span {\n",
              "  /* fitted */\n",
              "  background: var(--sklearn-color-fitted-level-0);\n",
              "  border: var(--sklearn-color-fitted-level-3);\n",
              "}\n",
              "\n",
              ".sk-estimator-doc-link:hover span {\n",
              "  display: block;\n",
              "}\n",
              "\n",
              "/* \"?\"-specific style due to the `<a>` HTML tag */\n",
              "\n",
              "#sk-container-id-2 a.estimator_doc_link {\n",
              "  float: right;\n",
              "  font-size: 1rem;\n",
              "  line-height: 1em;\n",
              "  font-family: monospace;\n",
              "  background-color: var(--sklearn-color-background);\n",
              "  border-radius: 1rem;\n",
              "  height: 1rem;\n",
              "  width: 1rem;\n",
              "  text-decoration: none;\n",
              "  /* unfitted */\n",
              "  color: var(--sklearn-color-unfitted-level-1);\n",
              "  border: var(--sklearn-color-unfitted-level-1) 1pt solid;\n",
              "}\n",
              "\n",
              "#sk-container-id-2 a.estimator_doc_link.fitted {\n",
              "  /* fitted */\n",
              "  border: var(--sklearn-color-fitted-level-1) 1pt solid;\n",
              "  color: var(--sklearn-color-fitted-level-1);\n",
              "}\n",
              "\n",
              "/* On hover */\n",
              "#sk-container-id-2 a.estimator_doc_link:hover {\n",
              "  /* unfitted */\n",
              "  background-color: var(--sklearn-color-unfitted-level-3);\n",
              "  color: var(--sklearn-color-background);\n",
              "  text-decoration: none;\n",
              "}\n",
              "\n",
              "#sk-container-id-2 a.estimator_doc_link.fitted:hover {\n",
              "  /* fitted */\n",
              "  background-color: var(--sklearn-color-fitted-level-3);\n",
              "}\n",
              "</style><div id=\"sk-container-id-2\" class=\"sk-top-container\"><div class=\"sk-text-repr-fallback\"><pre>SVC(kernel=&#x27;linear&#x27;, random_state=42)</pre><b>In a Jupyter environment, please rerun this cell to show the HTML representation or trust the notebook. <br />On GitHub, the HTML representation is unable to render, please try loading this page with nbviewer.org.</b></div><div class=\"sk-container\" hidden><div class=\"sk-item\"><div class=\"sk-estimator fitted sk-toggleable\"><input class=\"sk-toggleable__control sk-hidden--visually\" id=\"sk-estimator-id-2\" type=\"checkbox\" checked><label for=\"sk-estimator-id-2\" class=\"sk-toggleable__label fitted sk-toggleable__label-arrow fitted\">&nbsp;&nbsp;SVC<a class=\"sk-estimator-doc-link fitted\" rel=\"noreferrer\" target=\"_blank\" href=\"https://scikit-learn.org/1.5/modules/generated/sklearn.svm.SVC.html\">?<span>Documentation for SVC</span></a><span class=\"sk-estimator-doc-link fitted\">i<span>Fitted</span></span></label><div class=\"sk-toggleable__content fitted\"><pre>SVC(kernel=&#x27;linear&#x27;, random_state=42)</pre></div> </div></div></div></div>"
            ]
          },
          "metadata": {},
          "execution_count": 35
        }
      ]
    },
    {
      "cell_type": "markdown",
      "source": [
        "\n",
        "\n",
        "*   `train_test_split()` digunakan untuk membagi data fitur (X_hog) dan label (faces.target) menjadi set pelatihan dan set pengujian.\n",
        "*   SVM (Support Vector Machine) adalah model yang digunakan untuk melakukan klasifikasi. Di sini, kernel linear digunakan, yang umumnya cocok untuk masalah klasifikasi dengan data yang dapat dipisahkan secara linier.\n",
        "*   `model.fit(X_train, y_train)` melatih model menggunakan data pelatihan.\n",
        "\n"
      ],
      "metadata": {
        "id": "Tqil3Ju1Bz8S"
      }
    },
    {
      "cell_type": "code",
      "source": [
        "# Step 4: Make predictions on the test data\n",
        "y_pred = model.predict(X_test)\n",
        "\n",
        "# Step 5: Evaluate the model\n",
        "accuracy = accuracy_score(y_test, y_pred)\n",
        "print(\"Accuracy:\", accuracy)\n",
        "print(\"Classification Report:\\n\", classification_report(y_test, y_pred))"
      ],
      "metadata": {
        "colab": {
          "base_uri": "https://localhost:8080/"
        },
        "id": "gAQQPiGrBuvL",
        "outputId": "5cb9b172-1801-486c-e053-0eb897bd04e5"
      },
      "execution_count": 36,
      "outputs": [
        {
          "output_type": "stream",
          "name": "stdout",
          "text": [
            "Accuracy: 0.9935064935064936\n",
            "Classification Report:\n",
            "               precision    recall  f1-score   support\n",
            "\n",
            "           0       1.00      0.98      0.99        46\n",
            "           1       0.99      1.00      1.00       108\n",
            "\n",
            "    accuracy                           0.99       154\n",
            "   macro avg       1.00      0.99      0.99       154\n",
            "weighted avg       0.99      0.99      0.99       154\n",
            "\n"
          ]
        }
      ]
    },
    {
      "cell_type": "markdown",
      "source": [
        "\n",
        "\n",
        "*   `model.predict(X_test)` memprediksi label untuk data pengujian berdasarkan model yang sudah dilatih.\n",
        "*   `accuracy_score(y_test, y_pred)` menghitung akurasi model, yaitu persentase prediksi yang benar.\n",
        "*   `classification_report(y_test, y_pred)` memberikan laporan detail tentang performa klasifikasi, termasuk precision, recall, F1-score, dan support untuk setiap label.\n",
        "\n",
        "\n",
        "**Kesimpulan:**\n",
        "Kode ini melakukan klasifikasi gambar wajah dengan fitur HOG, kemudian menggunakan SVM sebagai model klasifikasi. Setelah pelatihan, model dievaluasi dengan metrik akurasi dan laporan klasifikasi untuk mengukur performanya pada data pengujian.\n",
        "\n",
        "\n",
        "\n",
        "\n",
        "\n",
        "\n",
        "\n"
      ],
      "metadata": {
        "id": "Bz0Av9deCBbb"
      }
    }
  ],
  "metadata": {
    "kernelspec": {
      "display_name": "base",
      "language": "python",
      "name": "python3"
    },
    "language_info": {
      "name": "python",
      "version": "3.11.4"
    },
    "colab": {
      "provenance": []
    }
  },
  "nbformat": 4,
  "nbformat_minor": 0
}