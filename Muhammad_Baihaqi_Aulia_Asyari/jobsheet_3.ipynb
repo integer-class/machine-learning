{
  "nbformat": 4,
  "nbformat_minor": 0,
  "metadata": {
    "colab": {
      "provenance": [],
      "authorship_tag": "ABX9TyOWVe747mJc9obikhyCqQBP",
      "include_colab_link": true
    },
    "kernelspec": {
      "name": "python3",
      "display_name": "Python 3"
    },
    "language_info": {
      "name": "python"
    }
  },
  "cells": [
    {
      "cell_type": "markdown",
      "metadata": {
        "id": "view-in-github",
        "colab_type": "text"
      },
      "source": [
        "<a href=\"https://colab.research.google.com/github/integer-class/machine-learning/blob/main/Muhammad_Baihaqi_Aulia_Asyari/jobsheet_3.ipynb\" target=\"_parent\"><img src=\"https://colab.research.google.com/assets/colab-badge.svg\" alt=\"Open In Colab\"/></a>"
      ]
    },
    {
      "cell_type": "markdown",
      "source": [
        "# Lab Work 1"
      ],
      "metadata": {
        "id": "oTe4hukaY7g_"
      }
    },
    {
      "cell_type": "markdown",
      "source": [
        "## Step 1 - Import Library"
      ],
      "metadata": {
        "id": "NzoClcIrZAXJ"
      }
    },
    {
      "cell_type": "markdown",
      "source": [
        "## Step 2 - Load Data"
      ],
      "metadata": {
        "id": "diFI7z5SZC7e"
      }
    },
    {
      "cell_type": "markdown",
      "source": [
        "## Step 3 - Data Understanding"
      ],
      "metadata": {
        "id": "aBYbXiEfZFv0"
      }
    },
    {
      "cell_type": "markdown",
      "source": [
        "## Step 4 - Visualize The Data"
      ],
      "metadata": {
        "id": "GGDyPq5kZIfP"
      }
    },
    {
      "cell_type": "markdown",
      "source": [
        "## Step 5 - Build Regression Model"
      ],
      "metadata": {
        "id": "j54QDHeSZL-h"
      }
    },
    {
      "cell_type": "markdown",
      "source": [
        "## Step 6 - Residual Analysis"
      ],
      "metadata": {
        "id": "4mOwdDQZZOts"
      }
    },
    {
      "cell_type": "markdown",
      "source": [
        "## Step 7 - Make a Prediction Using Testing Data"
      ],
      "metadata": {
        "id": "KJyipy9iZQ8U"
      }
    },
    {
      "cell_type": "markdown",
      "source": [
        "## Step 8 - Visualize The Result"
      ],
      "metadata": {
        "id": "BeRy-weWZTF5"
      }
    },
    {
      "cell_type": "markdown",
      "source": [
        "# Lab Work 2"
      ],
      "metadata": {
        "id": "4qeIguR4ZVfL"
      }
    },
    {
      "cell_type": "markdown",
      "source": [
        "## Step 1 - Import Library"
      ],
      "metadata": {
        "id": "uaan58hoZXnH"
      }
    },
    {
      "cell_type": "markdown",
      "source": [
        "## Step 2 - Load Data"
      ],
      "metadata": {
        "id": "SElL2YUbZa-5"
      }
    },
    {
      "cell_type": "markdown",
      "source": [
        "## Step 3 - Preprocessing --> Feature Scaling"
      ],
      "metadata": {
        "id": "2cO6qpazZdjP"
      }
    },
    {
      "cell_type": "markdown",
      "source": [
        "## Step 4 - Fit SVR Model"
      ],
      "metadata": {
        "id": "KGtYAXefZfrv"
      }
    },
    {
      "cell_type": "markdown",
      "source": [
        "## Step 5 - Visualize"
      ],
      "metadata": {
        "id": "8iPaNOULZiEu"
      }
    },
    {
      "cell_type": "markdown",
      "source": [
        "## Step 6 - Make a Prediction"
      ],
      "metadata": {
        "id": "IwQUSkETZowY"
      }
    },
    {
      "cell_type": "markdown",
      "source": [
        "## Step 7 - Print Result"
      ],
      "metadata": {
        "id": "fZ7ovIQMZqwX"
      }
    },
    {
      "cell_type": "markdown",
      "source": [
        "## Step 8 - Validation"
      ],
      "metadata": {
        "id": "1rfDcYwEZsnX"
      }
    },
    {
      "cell_type": "markdown",
      "source": [
        "## Step 9 - Model Evaluation"
      ],
      "metadata": {
        "id": "rN9MUODOZuTj"
      }
    },
    {
      "cell_type": "markdown",
      "source": [
        "# Lab Assignment"
      ],
      "metadata": {
        "id": "WeGABXVbZw2B"
      }
    },
    {
      "cell_type": "markdown",
      "source": [
        "## Identify the variables that will be used as independent variables (features) and the target variable (personal medical costs)."
      ],
      "metadata": {
        "id": "fARwp_9dZ0vm"
      }
    },
    {
      "cell_type": "markdown",
      "source": [
        "## Split the dataset into training (train) and testing (test) data with an appropriate proportion."
      ],
      "metadata": {
        "id": "KhIT2ZWjZ4xo"
      }
    },
    {
      "cell_type": "markdown",
      "source": [
        "## Perform feature scaling if necessary."
      ],
      "metadata": {
        "id": "8nCebHE7Z7QT"
      }
    },
    {
      "cell_type": "markdown",
      "source": [
        "## Create a multiple linear regression model using Scikit-Learn."
      ],
      "metadata": {
        "id": "TB6tBCVPZ-MM"
      }
    },
    {
      "cell_type": "markdown",
      "source": [
        "## Train the model on the training data and make predictions on the testing data."
      ],
      "metadata": {
        "id": "YBm6srsDaAlX"
      }
    },
    {
      "cell_type": "markdown",
      "source": [
        "## Evaluate the model by calculating metrics such as R-squared, MSE, and MAE. Display the evaluation results."
      ],
      "metadata": {
        "id": "cbXDXjyWaCmP"
      }
    }
  ]
}